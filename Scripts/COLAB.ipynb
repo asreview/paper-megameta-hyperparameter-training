{
  "cells": [
    {
      "cell_type": "markdown",
      "metadata": {
        "id": "XU6tOMyNbnQs"
      },
      "source": [
        "# Import"
      ]
    },
    {
      "cell_type": "code",
      "execution_count": null,
      "metadata": {
        "id": "tvzNYzsP4lRy"
      },
      "outputs": [],
      "source": [
        "!unzip asreview-cnn-hpo.zip"
      ]
    },
    {
      "cell_type": "code",
      "execution_count": null,
      "metadata": {
        "id": "H9-hpdz27ira"
      },
      "outputs": [],
      "source": [
        "!python -m pip install asreview-cnn-hpo/."
      ]
    },
    {
      "cell_type": "code",
      "execution_count": null,
      "metadata": {
        "id": "h0APrk5rbkuQ"
      },
      "outputs": [],
      "source": [
        "#remove standard colab folder\n",
        "!rm sample_data/*\n",
        "!rmdir sample_data\n",
        "#!pip install asreview\n",
        "!pip install asreview[all]\n",
        "!pip install git+https://github.com/BartJanBoverhof/asreview-cnn-hpo.git\n",
        "!pip install optuna\n",
        "!pip install git+https://github.com/JTeijema/asreview-plugin-wide-doc2vec.git\n",
        "!pip install gensim"
      ]
    },
    {
      "cell_type": "markdown",
      "metadata": {
        "id": "ed3wJIRO0ufU"
      },
      "source": [
        "# Cloud"
      ]
    },
    {
      "cell_type": "code",
      "execution_count": null,
      "metadata": {
        "id": "-sfnfyTp0wS2"
      },
      "outputs": [],
      "source": [
        "!pip install pyngrok --quiet\n",
        "from pyngrok import ngrok\n",
        "\n",
        "# Terminate open tunnels if exist\n",
        "ngrok.kill()\n",
        "\n",
        "# Setting the authtoken (optional)\n",
        "# Get your authtoken from https://dashboard.ngrok.com/auth\n",
        "NGROK_AUTH_TOKEN = \"fill token here\"\n",
        "ngrok.set_auth_token(NGROK_AUTH_TOKEN)"
      ]
    },
    {
      "cell_type": "code",
      "execution_count": null,
      "metadata": {
        "id": "10rVNay70zbl"
      },
      "outputs": [],
      "source": [
        "# Terminate open tunnels if exist\n",
        "ngrok.kill()"
      ]
    },
    {
      "cell_type": "code",
      "execution_count": null,
      "metadata": {
        "id": "XdH5OTI-06T8"
      },
      "outputs": [],
      "source": [
        "ngrok.connect(port=\"80\", proto=\"http\")"
      ]
    },
    {
      "cell_type": "code",
      "execution_count": null,
      "metadata": {
        "colab": {
          "base_uri": "https://localhost:8080/"
        },
        "id": "lbVHqRLq1kUc",
        "outputId": "9327090f-3607-485e-912b-eaae4014bdce"
      },
      "outputs": [],
      "source": [
        "!asreview lab --port 80"
      ]
    }
  ],
  "metadata": {
    "colab": {
      "collapsed_sections": [
        "XU6tOMyNbnQs"
      ],
      "name": "asreview multithread.ipynb",
      "provenance": []
    },
    "kernelspec": {
      "display_name": "Python 3",
      "name": "python3"
    },
    "language_info": {
      "name": "python"
    }
  },
  "nbformat": 4,
  "nbformat_minor": 0
}
